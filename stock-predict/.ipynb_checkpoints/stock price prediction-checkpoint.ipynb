{
 "cells": [
  {
   "cell_type": "markdown",
   "metadata": {},
   "source": [
    "# Stock price prediction"
   ]
  },
  {
   "cell_type": "code",
   "execution_count": 21,
   "metadata": {},
   "outputs": [
    {
     "name": "stdout",
     "output_type": "stream",
     "text": [
      "0.950125627311\n"
     ]
    }
   ],
   "source": [
    "import quandl, math\n",
    "import pandas as pd\n",
    "import numpy as np\n",
    "from sklearn import preprocessing, model_selection, linear_model\n",
    "\n",
    "\n",
    "df = quandl.get('NSE/TCS')\n",
    "#df.head()\n",
    "\n",
    "#print(len(df))\n",
    "\n",
    "df['PCT_Change'] = (df['Close'] - df['Open'])/df['Close']\n",
    "df['HL_PCT'] = (df['High']-df['Low'])/df['High']\n",
    "\n",
    "df['prev_day_close'] = df['Close'].shift(1)\n",
    "\n",
    "df = df[['Close', 'Total Trade Quantity', 'prev_day_close', 'PCT_Change', 'HL_PCT']]\n",
    "\n",
    "forecast_col = 'Close'\n",
    "\n",
    "forecast_out = int(math.ceil(0.01*len(df)))\n",
    "\n",
    "#print(forecast_out)\n",
    "\n",
    "df['label'] = df[forecast_col].shift(-forecast_out)\n",
    "\n",
    "\n",
    "df.dropna(inplace=True)\n",
    "\n",
    "\n",
    "y = np.array(df['label'])\n",
    "\n",
    "X = np.array(df.drop('label', 1))\n",
    "\n",
    "X = preprocessing.scale(X)\n",
    "\n",
    "\n",
    "X_train, X_test, y_train, y_test =  model_selection.train_test_split(X, y, test_size=0.2)\n",
    "\n",
    "clf = linear_model.LinearRegression()\n",
    "clf.fit(X_train, y_train)\n",
    "\n",
    "accuracy = clf.score(X_test, y_test);\n",
    "\n",
    "print(accuracy)\n",
    "\n",
    "\n"
   ]
  },
  {
   "cell_type": "code",
   "execution_count": null,
   "metadata": {},
   "outputs": [],
   "source": [
    "\n",
    "\n",
    "#X = preprocessing.scale(X)\n",
    "\n",
    "\n",
    "\n",
    "\n"
   ]
  },
  {
   "cell_type": "code",
   "execution_count": null,
   "metadata": {
    "collapsed": true
   },
   "outputs": [],
   "source": []
  },
  {
   "cell_type": "code",
   "execution_count": null,
   "metadata": {
    "collapsed": true
   },
   "outputs": [],
   "source": []
  }
 ],
 "metadata": {
  "kernelspec": {
   "display_name": "Python 2",
   "language": "python",
   "name": "python2"
  },
  "language_info": {
   "codemirror_mode": {
    "name": "ipython",
    "version": 2
   },
   "file_extension": ".py",
   "mimetype": "text/x-python",
   "name": "python",
   "nbconvert_exporter": "python",
   "pygments_lexer": "ipython2",
   "version": "2.7.14"
  }
 },
 "nbformat": 4,
 "nbformat_minor": 2
}
